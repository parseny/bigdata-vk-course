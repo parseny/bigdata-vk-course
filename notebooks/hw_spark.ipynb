{
 "cells": [
  {
   "cell_type": "code",
   "execution_count": 1,
   "id": "2f41cabc-13fb-459c-a1e6-8c9ae73267ba",
   "metadata": {},
   "outputs": [],
   "source": [
    "from pyspark import SparkConf\n",
    "from pyspark.sql import SparkSession\n",
    "from pyspark.sql import functions as f\n",
    "from pyspark.sql.types import *"
   ]
  },
  {
   "cell_type": "code",
   "execution_count": 2,
   "id": "ee0c0d0e-5990-4676-8b03-ec63fb36af0e",
   "metadata": {},
   "outputs": [],
   "source": [
    "!sed -i 's/\\r$//' /opt/hadoop/etc/hadoop/hadoop-env.sh"
   ]
  },
  {
   "cell_type": "code",
   "execution_count": 3,
   "id": "fec0081b-6915-430f-891b-24e02ae3d241",
   "metadata": {},
   "outputs": [
    {
     "name": "stdout",
     "output_type": "stream",
     "text": [
      "Safe mode is OFF\n"
     ]
    }
   ],
   "source": [
    "!hdfs dfsadmin -safemode leave"
   ]
  },
  {
   "cell_type": "code",
   "execution_count": 4,
   "id": "e0cb697e-e656-4f0f-bda4-95c3d89588dc",
   "metadata": {},
   "outputs": [
    {
     "name": "stdout",
     "output_type": "stream",
     "text": [
      "rm: `/ml-latest-small': No such file or directory\n"
     ]
    }
   ],
   "source": [
    "!hdfs dfs -rm -r /ml-latest-small\n",
    "!hdfs dfs -put ml-latest-small /"
   ]
  },
  {
   "cell_type": "code",
   "execution_count": 5,
   "id": "5bb2c8fb-1601-4b38-8911-5fe6848212e0",
   "metadata": {},
   "outputs": [],
   "source": [
    "conf = SparkConf().set(\"spark.executor.instances\", \"2\").set(\"spark.executor.cores\", \"1\").set(\"spark.executor.memory\", \"1g\")"
   ]
  },
  {
   "cell_type": "code",
   "execution_count": 6,
   "id": "81a166a1-8b25-4c11-a459-a02b2cc9ff65",
   "metadata": {},
   "outputs": [
    {
     "name": "stderr",
     "output_type": "stream",
     "text": [
      "Setting default log level to \"WARN\".\n",
      "To adjust logging level use sc.setLogLevel(newLevel). For SparkR, use setLogLevel(newLevel).\n",
      "23/12/29 01:46:11 WARN Client: Neither spark.yarn.jars nor spark.yarn.archive is set, falling back to uploading libraries under SPARK_HOME.\n"
     ]
    }
   ],
   "source": [
    "spark = SparkSession.builder.config(conf=conf).master(master=\"yarn\").appName(\"pimenov_spark\").getOrCreate()"
   ]
  },
  {
   "cell_type": "code",
   "execution_count": 7,
   "id": "4b5abe65-1dcc-47ea-9407-aa847bdfe118",
   "metadata": {},
   "outputs": [
    {
     "data": {
      "text/html": [
       "\n",
       "            <div>\n",
       "                <p><b>SparkSession - in-memory</b></p>\n",
       "                \n",
       "        <div>\n",
       "            <p><b>SparkContext</b></p>\n",
       "\n",
       "            <p><a href=\"http://e3aa0be4a6f0:4040\">Spark UI</a></p>\n",
       "\n",
       "            <dl>\n",
       "              <dt>Version</dt>\n",
       "                <dd><code>v3.5.0</code></dd>\n",
       "              <dt>Master</dt>\n",
       "                <dd><code>yarn</code></dd>\n",
       "              <dt>AppName</dt>\n",
       "                <dd><code>pimenov_spark</code></dd>\n",
       "            </dl>\n",
       "        </div>\n",
       "        \n",
       "            </div>\n",
       "        "
      ],
      "text/plain": [
       "<pyspark.sql.session.SparkSession at 0x7ffb53fb7190>"
      ]
     },
     "execution_count": 7,
     "metadata": {},
     "output_type": "execute_result"
    }
   ],
   "source": [
    "spark"
   ]
  },
  {
   "cell_type": "code",
   "execution_count": 8,
   "id": "29fbd75e-695a-4097-8add-d10140f4e86b",
   "metadata": {},
   "outputs": [],
   "source": [
    "ratings_schema = StructType([StructField(\"userId\", IntegerType()),\n",
    "                             StructField(\"movieId\", IntegerType()),\n",
    "                             StructField(\"rating\", DoubleType()),\n",
    "                             StructField(\"timestamp\", IntegerType())\n",
    "])\n",
    "\n",
    "df_ratings = spark.read.format('csv').option('header', 'True').schema(ratings_schema).load(\"/ml-latest-small/ratings.csv\")"
   ]
  },
  {
   "cell_type": "code",
   "execution_count": 9,
   "id": "a1d8874b-340d-434a-b36b-1a77aa55bbf4",
   "metadata": {},
   "outputs": [
    {
     "name": "stderr",
     "output_type": "stream",
     "text": [
      "[Stage 2:>                                                          (0 + 1) / 1]\r"
     ]
    },
    {
     "name": "stdout",
     "output_type": "stream",
     "text": [
      "CPU times: user 21.8 ms, sys: 4.98 ms, total: 26.8 ms\n",
      "Wall time: 18.5 s\n"
     ]
    },
    {
     "name": "stderr",
     "output_type": "stream",
     "text": [
      "                                                                                \r"
     ]
    },
    {
     "data": {
      "text/plain": [
       "100836"
      ]
     },
     "execution_count": 9,
     "metadata": {},
     "output_type": "execute_result"
    }
   ],
   "source": [
    "%%time\n",
    "df_ratings.count()"
   ]
  },
  {
   "cell_type": "code",
   "execution_count": 10,
   "id": "a107334a-7719-4289-a3d7-9b172adfecf7",
   "metadata": {},
   "outputs": [],
   "source": [
    "tags_schema = StructType([StructField(\"userId\", IntegerType()),\n",
    "                             StructField(\"movieId\", IntegerType()),\n",
    "                             StructField(\"tag\", StringType()),\n",
    "                             StructField(\"timestamp\", IntegerType())\n",
    "])\n",
    "\n",
    "df_tags = spark.read.format('csv').option('header', 'True').schema(tags_schema).load(\"/ml-latest-small/tags.csv\")"
   ]
  },
  {
   "cell_type": "code",
   "execution_count": 11,
   "id": "ee12ec01-f678-4182-b389-7b5f0661af78",
   "metadata": {},
   "outputs": [
    {
     "name": "stderr",
     "output_type": "stream",
     "text": [
      "[Stage 5:>                                                          (0 + 1) / 1]\r"
     ]
    },
    {
     "name": "stdout",
     "output_type": "stream",
     "text": [
      "CPU times: user 16.7 ms, sys: 2.66 ms, total: 19.4 ms\n",
      "Wall time: 5.03 s\n"
     ]
    },
    {
     "name": "stderr",
     "output_type": "stream",
     "text": [
      "                                                                                \r"
     ]
    },
    {
     "data": {
      "text/plain": [
       "3683"
      ]
     },
     "execution_count": 11,
     "metadata": {},
     "output_type": "execute_result"
    }
   ],
   "source": [
    "%%time\n",
    "df_tags.count()"
   ]
  },
  {
   "cell_type": "markdown",
   "id": "e6015eb8-f7e5-4b52-a50f-35df8c4ef850",
   "metadata": {},
   "source": [
    "Выполнено две таски, видно на скрине spark_jobs"
   ]
  },
  {
   "cell_type": "code",
   "execution_count": 12,
   "id": "bd59ac39-5100-4efc-8860-9596ae8b1852",
   "metadata": {},
   "outputs": [
    {
     "name": "stderr",
     "output_type": "stream",
     "text": [
      "                                                                                \r"
     ]
    },
    {
     "data": {
      "text/plain": [
       "610"
      ]
     },
     "execution_count": 12,
     "metadata": {},
     "output_type": "execute_result"
    }
   ],
   "source": [
    "df_ratings.select('userId').distinct().count()"
   ]
  },
  {
   "cell_type": "code",
   "execution_count": 13,
   "id": "da70b653-0130-46aa-aaad-c54ce624845a",
   "metadata": {},
   "outputs": [
    {
     "name": "stderr",
     "output_type": "stream",
     "text": [
      "                                                                                \r"
     ]
    },
    {
     "data": {
      "text/plain": [
       "48580"
      ]
     },
     "execution_count": 13,
     "metadata": {},
     "output_type": "execute_result"
    }
   ],
   "source": [
    "df_ratings.filter(df_ratings.rating >= 4.0).count()"
   ]
  },
  {
   "cell_type": "code",
   "execution_count": 14,
   "id": "9d5afbcd-4a6b-40d5-bc51-3fea07551b9f",
   "metadata": {},
   "outputs": [
    {
     "name": "stderr",
     "output_type": "stream",
     "text": [
      "                                                                                \r"
     ]
    },
    {
     "name": "stdout",
     "output_type": "stream",
     "text": [
      "+------+-------+------+---------+\n",
      "|userId|movieId|rating|timestamp|\n",
      "+------+-------+------+---------+\n",
      "|     1|   1617|   5.0|964982951|\n",
      "|     1|   1625|   5.0|964983504|\n",
      "|     1|     47|   5.0|964983815|\n",
      "|     1|   1732|   5.0|964981125|\n",
      "|     1|    101|   5.0|964980868|\n",
      "|     1|   1804|   5.0|964983034|\n",
      "|     1|    157|   5.0|964984100|\n",
      "|     1|   1927|   5.0|964981497|\n",
      "|     1|    216|   5.0|964981208|\n",
      "|     1|   1954|   5.0|964982176|\n",
      "|     1|    260|   5.0|964981680|\n",
      "|     1|   2005|   5.0|964981710|\n",
      "|     1|    362|   5.0|964982588|\n",
      "|     1|   2018|   5.0|964980523|\n",
      "|     1|    527|   5.0|964984002|\n",
      "|     1|   2033|   5.0|964982903|\n",
      "|     1|    596|   5.0|964982838|\n",
      "|     1|   2048|   5.0|964982791|\n",
      "|     1|    661|   5.0|964982838|\n",
      "|     1|   2058|   5.0|964982400|\n",
      "|     1|    923|   5.0|964981529|\n",
      "|     1|   2078|   5.0|964982838|\n",
      "|     1|    954|   5.0|964983219|\n",
      "|     1|   2090|   5.0|964982838|\n",
      "|     1|   1024|   5.0|964982876|\n",
      "|     1|   2094|   5.0|964982653|\n",
      "|     1|   1029|   5.0|964982855|\n",
      "|     1|   2115|   5.0|964982529|\n",
      "|     1|   1032|   5.0|964982791|\n",
      "|     1|   2116|   5.0|964982876|\n",
      "|     1|   1073|   5.0|964981680|\n",
      "|     1|   2137|   5.0|964982791|\n",
      "|     1|   1089|   5.0|964982951|\n",
      "|     1|   2139|   5.0|964982791|\n",
      "|     1|   1097|   5.0|964981680|\n",
      "|     1|   2141|   5.0|964982838|\n",
      "|     1|   1196|   5.0|964981827|\n",
      "|     1|   2161|   5.0|964981710|\n",
      "|     1|   1198|   5.0|964981827|\n",
      "|     1|   2291|   5.0|964983664|\n",
      "|     1|   1210|   5.0|964980499|\n",
      "|     1|   2329|   5.0|964983263|\n",
      "|     1|   1220|   5.0|964981909|\n",
      "|     1|   2353|   5.0|964983861|\n",
      "|     1|   1224|   5.0|964984018|\n",
      "|     1|   2387|   5.0|964983123|\n",
      "|     1|   1240|   5.0|964983723|\n",
      "|     1|   2395|   5.0|964981093|\n",
      "|     1|   1270|   5.0|964983705|\n",
      "|     1|   2427|   5.0|964982242|\n",
      "|     1|   1278|   5.0|964983414|\n",
      "|     1|   2459|   5.0|964983414|\n",
      "|     1|   1291|   5.0|964981909|\n",
      "|     1|   2470|   5.0|964982588|\n",
      "|     1|   1517|   5.0|964981107|\n",
      "|     1|   2502|   5.0|964981278|\n",
      "|     1|   1587|   5.0|964982346|\n",
      "|     1|   2529|   5.0|964982242|\n",
      "|     1|     50|   5.0|964982931|\n",
      "|     1|   2542|   5.0|964981265|\n",
      "|     1|    163|   5.0|964983650|\n",
      "|     1|   2571|   5.0|964981888|\n",
      "|     1|    333|   5.0|964981179|\n",
      "|     1|   2580|   5.0|964983000|\n",
      "|     1|    553|   5.0|964984153|\n",
      "|     1|   2596|   5.0|964981144|\n",
      "|     1|    919|   5.0|964982475|\n",
      "|     1|   2641|   5.0|964982620|\n",
      "|     1|   1023|   5.0|964982681|\n",
      "|     1|   2654|   5.0|964983393|\n",
      "|     1|   1031|   5.0|964982653|\n",
      "|     1|   2692|   5.0|964981855|\n",
      "|     1|   1080|   5.0|964981327|\n",
      "|     1|   2700|   5.0|964980985|\n",
      "|     1|   1136|   5.0|964981327|\n",
      "|     1|   2716|   5.0|964983414|\n",
      "|     1|   1206|   5.0|964983737|\n",
      "|     1|   2761|   5.0|964982703|\n",
      "|     1|   1222|   5.0|964981909|\n",
      "|     1|   2858|   5.0|964980868|\n",
      "|     1|   1256|   5.0|964981442|\n",
      "|     1|   2872|   5.0|964981680|\n",
      "|     1|   1282|   5.0|964982703|\n",
      "|     1|   2899|   5.0|964982703|\n",
      "|     1|   1573|   5.0|964982290|\n",
      "|     1|   2944|   5.0|964981872|\n",
      "|     1|    151|   5.0|964984041|\n",
      "|     1|   2947|   5.0|964982176|\n",
      "|     1|    457|   5.0|964981909|\n",
      "|     1|   2948|   5.0|964982191|\n",
      "|     1|    940|   5.0|964982176|\n",
      "|     1|   2949|   5.0|964981888|\n",
      "|     1|   1049|   5.0|964982400|\n",
      "|     1|   2959|   5.0|964983282|\n",
      "|     1|   1197|   5.0|964981872|\n",
      "|     1|   2987|   5.0|964982495|\n",
      "|     1|   1226|   5.0|964983618|\n",
      "|     1|   2991|   5.0|964982271|\n",
      "|     1|   1298|   5.0|964984086|\n",
      "|     1|   2993|   5.0|964982242|\n",
      "+------+-------+------+---------+\n",
      "only showing top 100 rows\n",
      "\n"
     ]
    }
   ],
   "source": [
    "df_ratings.sort(df_ratings.rating.desc()).show(100)"
   ]
  },
  {
   "cell_type": "code",
   "execution_count": 15,
   "id": "dcd2ecbc-a5cd-42f1-a102-0f82c65d0005",
   "metadata": {},
   "outputs": [],
   "source": [
    "df_joined = df_ratings.alias('rating').join(df_tags.alias('tag'), how='inner', on=['userId', 'movieId'])"
   ]
  },
  {
   "cell_type": "code",
   "execution_count": 16,
   "id": "3ae83f88-0085-44fe-9e18-e55a838a504f",
   "metadata": {},
   "outputs": [],
   "source": [
    "df_diff = df_joined.withColumn(\"time_diff\", (f.col('tag.timestamp') - f.col('rating.timestamp')))"
   ]
  },
  {
   "cell_type": "code",
   "execution_count": 17,
   "id": "51c84366-4b0f-4d78-9826-7923207180a6",
   "metadata": {},
   "outputs": [
    {
     "name": "stderr",
     "output_type": "stream",
     "text": [
      "[Stage 17:>                                                         (0 + 1) / 1]\r"
     ]
    },
    {
     "name": "stdout",
     "output_type": "stream",
     "text": [
      "+-------------------------+\n",
      "|(avg(time_diff) / 1000.0)|\n",
      "+-------------------------+\n",
      "|       26243.727372266974|\n",
      "+-------------------------+\n",
      "\n"
     ]
    },
    {
     "name": "stderr",
     "output_type": "stream",
     "text": [
      "                                                                                \r"
     ]
    }
   ],
   "source": [
    "df_diff.select(f.avg(\"time_diff\") / 1e3).show()"
   ]
  },
  {
   "cell_type": "code",
   "execution_count": 18,
   "id": "370776e9-ca7d-4d4c-86b7-f1da9afa6229",
   "metadata": {},
   "outputs": [
    {
     "name": "stderr",
     "output_type": "stream",
     "text": [
      "[Stage 20:>                                                         (0 + 1) / 1]\r"
     ]
    },
    {
     "name": "stdout",
     "output_type": "stream",
     "text": [
      "+------------------+\n",
      "|  avg(avg(rating))|\n",
      "+------------------+\n",
      "|3.6572223377474016|\n",
      "+------------------+\n",
      "\n"
     ]
    },
    {
     "name": "stderr",
     "output_type": "stream",
     "text": [
      "                                                                                \r"
     ]
    }
   ],
   "source": [
    "df_ratings.groupBy('userId').agg(f.avg('rating')).agg(f.avg('avg(rating)')).show()"
   ]
  },
  {
   "cell_type": "code",
   "execution_count": 38,
   "id": "402b118d-3471-4774-b982-85fd1b0d2525",
   "metadata": {},
   "outputs": [
    {
     "name": "stderr",
     "output_type": "stream",
     "text": [
      "                                                                                \r"
     ]
    },
    {
     "data": {
      "text/html": [
       "<div>\n",
       "<style scoped>\n",
       "    .dataframe tbody tr th:only-of-type {\n",
       "        vertical-align: middle;\n",
       "    }\n",
       "\n",
       "    .dataframe tbody tr th {\n",
       "        vertical-align: top;\n",
       "    }\n",
       "\n",
       "    .dataframe thead th {\n",
       "        text-align: right;\n",
       "    }\n",
       "</style>\n",
       "<table border=\"1\" class=\"dataframe\">\n",
       "  <thead>\n",
       "    <tr style=\"text-align: right;\">\n",
       "      <th></th>\n",
       "      <th>tag</th>\n",
       "      <th>rating</th>\n",
       "    </tr>\n",
       "  </thead>\n",
       "  <tbody>\n",
       "    <tr>\n",
       "      <th>0</th>\n",
       "      <td>unoriginal</td>\n",
       "      <td>4.0</td>\n",
       "    </tr>\n",
       "    <tr>\n",
       "      <th>1</th>\n",
       "      <td>James Stewart</td>\n",
       "      <td>3.5</td>\n",
       "    </tr>\n",
       "    <tr>\n",
       "      <th>2</th>\n",
       "      <td>love</td>\n",
       "      <td>4.0</td>\n",
       "    </tr>\n",
       "    <tr>\n",
       "      <th>3</th>\n",
       "      <td>sweet</td>\n",
       "      <td>4.0</td>\n",
       "    </tr>\n",
       "    <tr>\n",
       "      <th>4</th>\n",
       "      <td>class</td>\n",
       "      <td>4.0</td>\n",
       "    </tr>\n",
       "  </tbody>\n",
       "</table>\n",
       "</div>"
      ],
      "text/plain": [
       "             tag  rating\n",
       "0     unoriginal     4.0\n",
       "1  James Stewart     3.5\n",
       "2           love     4.0\n",
       "3          sweet     4.0\n",
       "4          class     4.0"
      ]
     },
     "execution_count": 38,
     "metadata": {},
     "output_type": "execute_result"
    }
   ],
   "source": [
    "from sklearn.feature_extraction.text import TfidfVectorizer\n",
    "from sklearn.linear_model import SGDRegressor\n",
    "\n",
    "df_joined = df_joined.select('tag', 'rating')\n",
    "df_pd = df_joined.toPandas().sample(frac=1).reset_index(drop=True)\n",
    "df_pd.head()"
   ]
  },
  {
   "cell_type": "code",
   "execution_count": 39,
   "id": "0cd681ae-de38-4b20-962c-c6d36c0d35b9",
   "metadata": {},
   "outputs": [
    {
     "data": {
      "text/plain": [
       "(3476, 1708)"
      ]
     },
     "execution_count": 39,
     "metadata": {},
     "output_type": "execute_result"
    }
   ],
   "source": [
    "vectorizer = TfidfVectorizer()\n",
    "tags_tfidf = vectorizer.fit_transform(df_pd.tag)\n",
    "tags_tfidf.shape"
   ]
  },
  {
   "cell_type": "code",
   "execution_count": 40,
   "id": "cb913335-c07b-4683-8b2d-cff5ac39a73e",
   "metadata": {},
   "outputs": [
    {
     "data": {
      "text/html": [
       "<style>#sk-container-id-3 {color: black;}#sk-container-id-3 pre{padding: 0;}#sk-container-id-3 div.sk-toggleable {background-color: white;}#sk-container-id-3 label.sk-toggleable__label {cursor: pointer;display: block;width: 100%;margin-bottom: 0;padding: 0.3em;box-sizing: border-box;text-align: center;}#sk-container-id-3 label.sk-toggleable__label-arrow:before {content: \"▸\";float: left;margin-right: 0.25em;color: #696969;}#sk-container-id-3 label.sk-toggleable__label-arrow:hover:before {color: black;}#sk-container-id-3 div.sk-estimator:hover label.sk-toggleable__label-arrow:before {color: black;}#sk-container-id-3 div.sk-toggleable__content {max-height: 0;max-width: 0;overflow: hidden;text-align: left;background-color: #f0f8ff;}#sk-container-id-3 div.sk-toggleable__content pre {margin: 0.2em;color: black;border-radius: 0.25em;background-color: #f0f8ff;}#sk-container-id-3 input.sk-toggleable__control:checked~div.sk-toggleable__content {max-height: 200px;max-width: 100%;overflow: auto;}#sk-container-id-3 input.sk-toggleable__control:checked~label.sk-toggleable__label-arrow:before {content: \"▾\";}#sk-container-id-3 div.sk-estimator input.sk-toggleable__control:checked~label.sk-toggleable__label {background-color: #d4ebff;}#sk-container-id-3 div.sk-label input.sk-toggleable__control:checked~label.sk-toggleable__label {background-color: #d4ebff;}#sk-container-id-3 input.sk-hidden--visually {border: 0;clip: rect(1px 1px 1px 1px);clip: rect(1px, 1px, 1px, 1px);height: 1px;margin: -1px;overflow: hidden;padding: 0;position: absolute;width: 1px;}#sk-container-id-3 div.sk-estimator {font-family: monospace;background-color: #f0f8ff;border: 1px dotted black;border-radius: 0.25em;box-sizing: border-box;margin-bottom: 0.5em;}#sk-container-id-3 div.sk-estimator:hover {background-color: #d4ebff;}#sk-container-id-3 div.sk-parallel-item::after {content: \"\";width: 100%;border-bottom: 1px solid gray;flex-grow: 1;}#sk-container-id-3 div.sk-label:hover label.sk-toggleable__label {background-color: #d4ebff;}#sk-container-id-3 div.sk-serial::before {content: \"\";position: absolute;border-left: 1px solid gray;box-sizing: border-box;top: 0;bottom: 0;left: 50%;z-index: 0;}#sk-container-id-3 div.sk-serial {display: flex;flex-direction: column;align-items: center;background-color: white;padding-right: 0.2em;padding-left: 0.2em;position: relative;}#sk-container-id-3 div.sk-item {position: relative;z-index: 1;}#sk-container-id-3 div.sk-parallel {display: flex;align-items: stretch;justify-content: center;background-color: white;position: relative;}#sk-container-id-3 div.sk-item::before, #sk-container-id-3 div.sk-parallel-item::before {content: \"\";position: absolute;border-left: 1px solid gray;box-sizing: border-box;top: 0;bottom: 0;left: 50%;z-index: -1;}#sk-container-id-3 div.sk-parallel-item {display: flex;flex-direction: column;z-index: 1;position: relative;background-color: white;}#sk-container-id-3 div.sk-parallel-item:first-child::after {align-self: flex-end;width: 50%;}#sk-container-id-3 div.sk-parallel-item:last-child::after {align-self: flex-start;width: 50%;}#sk-container-id-3 div.sk-parallel-item:only-child::after {width: 0;}#sk-container-id-3 div.sk-dashed-wrapped {border: 1px dashed gray;margin: 0 0.4em 0.5em 0.4em;box-sizing: border-box;padding-bottom: 0.4em;background-color: white;}#sk-container-id-3 div.sk-label label {font-family: monospace;font-weight: bold;display: inline-block;line-height: 1.2em;}#sk-container-id-3 div.sk-label-container {text-align: center;}#sk-container-id-3 div.sk-container {/* jupyter's `normalize.less` sets `[hidden] { display: none; }` but bootstrap.min.css set `[hidden] { display: none !important; }` so we also need the `!important` here to be able to override the default hidden behavior on the sphinx rendered scikit-learn.org. See: https://github.com/scikit-learn/scikit-learn/issues/21755 */display: inline-block !important;position: relative;}#sk-container-id-3 div.sk-text-repr-fallback {display: none;}</style><div id=\"sk-container-id-3\" class=\"sk-top-container\"><div class=\"sk-text-repr-fallback\"><pre>SGDRegressor()</pre><b>In a Jupyter environment, please rerun this cell to show the HTML representation or trust the notebook. <br />On GitHub, the HTML representation is unable to render, please try loading this page with nbviewer.org.</b></div><div class=\"sk-container\" hidden><div class=\"sk-item\"><div class=\"sk-estimator sk-toggleable\"><input class=\"sk-toggleable__control sk-hidden--visually\" id=\"sk-estimator-id-3\" type=\"checkbox\" checked><label for=\"sk-estimator-id-3\" class=\"sk-toggleable__label sk-toggleable__label-arrow\">SGDRegressor</label><div class=\"sk-toggleable__content\"><pre>SGDRegressor()</pre></div></div></div></div></div>"
      ],
      "text/plain": [
       "SGDRegressor()"
      ]
     },
     "execution_count": 40,
     "metadata": {},
     "output_type": "execute_result"
    }
   ],
   "source": [
    "sgd_regr = SGDRegressor()\n",
    "sgd_regr.fit(tags_tfidf, df_pd.rating)"
   ]
  },
  {
   "cell_type": "code",
   "execution_count": 59,
   "id": "5d40c6f0-5c1d-4a1b-bbc7-2ba0308bdb18",
   "metadata": {},
   "outputs": [],
   "source": [
    "@f.udf(DoubleType())\n",
    "def predict_ratings(tags):\n",
    "    features = vectorizer.transform([tags])\n",
    "    pred_ratings = sgd_regr.predict(features)\n",
    "    return pred_ratings.item()"
   ]
  },
  {
   "cell_type": "code",
   "execution_count": 60,
   "id": "968e2200-b9d6-4f65-a0d5-ea763cdd55a1",
   "metadata": {},
   "outputs": [],
   "source": [
    "pred = predict_ratings(f.col('tag'))"
   ]
  },
  {
   "cell_type": "code",
   "execution_count": 61,
   "id": "330bc141-0af9-410d-8078-71695c44444f",
   "metadata": {},
   "outputs": [
    {
     "name": "stderr",
     "output_type": "stream",
     "text": [
      "[Stage 51:>                                                         (0 + 1) / 1]\r"
     ]
    },
    {
     "name": "stdout",
     "output_type": "stream",
     "text": [
      "+--------------------+------+------------------+\n",
      "|                 tag|rating|       pred_rating|\n",
      "+--------------------+------+------------------+\n",
      "|        will ferrell|   5.0| 4.026301094410628|\n",
      "|     Highly quotable|   5.0|3.9515342448662363|\n",
      "|               funny|   5.0| 4.368275578988325|\n",
      "|           Tom Hardy|   5.0|3.8314398086898085|\n",
      "|                 MMA|   5.0| 3.418009340123745|\n",
      "|        Boxing story|   5.0| 3.930386449760093|\n",
      "|     Martin Scorsese|   5.0|3.8496732685271455|\n",
      "|   Leonardo DiCaprio|   5.0| 4.234972897492524|\n",
      "|               drugs|   5.0| 4.287013800159387|\n",
      "|        way too long|   1.0|3.4260018070404343|\n",
      "|               mafia|   4.0|4.1551997530783735|\n",
      "|            gangster|   4.0| 3.640420537843999|\n",
      "|           Al Pacino|   4.0|3.8562201246647656|\n",
      "|               Mafia|   5.0|4.1551997530783735|\n",
      "|           Al Pacino|   5.0|3.8562201246647656|\n",
      "|          true story|   4.5|   3.8547189332786|\n",
      "|           holocaust|   4.5| 3.975288761151707|\n",
      "|        twist ending|   4.5| 4.836272281519745|\n",
      "|        twist ending|   4.5| 4.836272281519745|\n",
      "|     courtroom drama|   4.5|3.8406006847643304|\n",
      "|     Anthony Hopkins|   4.5| 3.380727551002332|\n",
      "|               music|   3.0|4.2904633742500025|\n",
      "|  indie record label|   3.0| 3.267779905694979|\n",
      "|             britpop|   3.0| 3.268711348712646|\n",
      "|      Sustainability|   4.0|3.3432309093021604|\n",
      "|     dumpster diving|   4.0|3.3431017524642628|\n",
      "|              bloody|   0.5| 3.525067173707663|\n",
      "|         time-travel|   4.5| 4.232305912521042|\n",
      "|              sci-fi|   4.5| 4.295354836463794|\n",
      "|          black hole|   4.5|3.8565496556071146|\n",
      "|      Robin Williams|   4.0| 3.694975816769976|\n",
      "|    magic board game|   4.0| 3.747979730390445|\n",
      "|             fantasy|   4.0|3.9392686566843507|\n",
      "|         sword fight|   4.5|3.3877983981180226|\n",
      "|             revenge|   4.5| 4.168782086587338|\n",
      "|Oscar (Best Cinem...|   4.5| 4.338554766149906|\n",
      "|          mel gibson|   4.5|3.4286017279694168|\n",
      "|            Medieval|   4.5|3.3808635620494782|\n",
      "|       inspirational|   4.5| 3.803080534542693|\n",
      "|          historical|   4.5|3.3812365462324716|\n",
      "|                epic|   4.5|3.9656549329737754|\n",
      "|   beautiful scenery|   4.5|3.9976678383562447|\n",
      "|              gothic|   4.5| 3.857087046953137|\n",
      "|              family|   4.5| 4.113839261372191|\n",
      "|         dark comedy|   4.5|4.8981289237461265|\n",
      "|   Christopher Lloyd|   4.5|3.7424580476546287|\n",
      "|     Christina Ricci|   4.5|3.5629465747129574|\n",
      "|        black comedy|   4.5|4.6420919113769585|\n",
      "|               mafia|   5.0|4.1551997530783735|\n",
      "|Francis Ford Coppola|   5.0|3.5353633342694426|\n",
      "+--------------------+------+------------------+\n",
      "only showing top 50 rows\n",
      "\n"
     ]
    },
    {
     "name": "stderr",
     "output_type": "stream",
     "text": [
      "                                                                                \r"
     ]
    }
   ],
   "source": [
    "df_res = df_joined.withColumn('pred_rating', pred)\n",
    "df_res.show(50)"
   ]
  },
  {
   "cell_type": "code",
   "execution_count": 64,
   "id": "1a6794d2-5141-4f34-80d8-c879a98e2fb1",
   "metadata": {},
   "outputs": [
    {
     "name": "stderr",
     "output_type": "stream",
     "text": [
      "[Stage 57:>                                                         (0 + 1) / 1]\r"
     ]
    },
    {
     "name": "stdout",
     "output_type": "stream",
     "text": [
      "+------------------+\n",
      "|              rmse|\n",
      "+------------------+\n",
      "|0.8743253030115099|\n",
      "+------------------+\n",
      "\n",
      "CPU times: user 1.44 ms, sys: 18 ms, total: 19.4 ms\n",
      "Wall time: 7.87 s\n"
     ]
    },
    {
     "name": "stderr",
     "output_type": "stream",
     "text": [
      "                                                                                \r"
     ]
    }
   ],
   "source": [
    "%%time\n",
    "df_res.select(f.sqrt(f.avg(f.pow(f.col('rating') - f.col('pred_rating'), 2))).alias('rmse')).show()"
   ]
  },
  {
   "attachments": {
    "39d2f0bc-62a4-4bf6-8e7d-3558964689d8.png": {
     "image/png": "[encoded data removed]"
    },
    "7190d822-2f4c-45be-a2ef-69908b72512e.png": {
     "image/png": "[encoded data removed]"
    }
   },
   "cell_type": "markdown",
   "id": "8c8c7ea4-a2a8-454e-b5be-69f904196d27",
   "metadata": {},
   "source": [
    "![image.png](attachment:39d2f0bc-62a4-4bf6-8e7d-3558964689d8.png)\n",
    "![image.png](attachment:7190d822-2f4c-45be-a2ef-69908b72512e.png)\n"
   ]
  },
  {
   "cell_type": "code",
   "execution_count": null,
   "id": "5ad37924-1493-4349-b412-6bd6c1891a4a",
   "metadata": {},
   "outputs": [],
   "source": []
  }
 ],
 "metadata": {
  "kernelspec": {
   "display_name": "Python 3 (ipykernel)",
   "language": "python",
   "name": "python3"
  },
  "language_info": {
   "codemirror_mode": {
    "name": "ipython",
    "version": 3
   },
   "file_extension": ".py",
   "mimetype": "text/x-python",
   "name": "python",
   "nbconvert_exporter": "python",
   "pygments_lexer": "ipython3",
   "version": "3.10.12"
  }
 },
 "nbformat": 4,
 "nbformat_minor": 5
}
